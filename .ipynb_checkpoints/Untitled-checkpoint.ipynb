{
 "cells": [
  {
   "cell_type": "code",
   "execution_count": 9,
   "metadata": {},
   "outputs": [],
   "source": [
    "import requests\n",
    "import json"
   ]
  },
  {
   "cell_type": "code",
   "execution_count": 7,
   "metadata": {
    "scrolled": true
   },
   "outputs": [
    {
     "name": "stdout",
     "output_type": "stream",
     "text": [
      "{\"repositories\":[\"centos\",\"flask-hello-world\",\"python\",\"ubuntu\"]}\n",
      "\n"
     ]
    }
   ],
   "source": [
    "url = 'http://192.168.33.10:5000/v2/_catalog'\n",
    "resault = requests.get(url).text\n",
    "print(resault)"
   ]
  },
  {
   "cell_type": "code",
   "execution_count": 12,
   "metadata": {},
   "outputs": [
    {
     "name": "stdout",
     "output_type": "stream",
     "text": [
      "['centos', 'flask-hello-world', 'python', 'ubuntu']\n"
     ]
    }
   ],
   "source": [
    "res = json.loads(resault)\n",
    "print(res['repositories'])"
   ]
  },
  {
   "cell_type": "code",
   "execution_count": 16,
   "metadata": {},
   "outputs": [
    {
     "name": "stdout",
     "output_type": "stream",
     "text": [
      "{\"name\":\"centos\",\"tags\":[\"7.6.1810\"]}\n",
      "\n",
      "{\"name\":\"flask-hello-world\",\"tags\":[\"1.0\"]}\n",
      "\n",
      "{\"name\":\"python\",\"tags\":[\"3.6\"]}\n",
      "\n",
      "{\"name\":\"ubuntu\",\"tags\":[\"latest\"]}\n",
      "\n"
     ]
    }
   ],
   "source": [
    "for i in res['repositories']:\n",
    "    url2 = 'http://192.168.33.10:5000/v2/'+ i + '/tags/list'\n",
    "    resault2 = requests.get(url2).text\n",
    "    print(resault2)"
   ]
  },
  {
   "cell_type": "code",
   "execution_count": 21,
   "metadata": {},
   "outputs": [
    {
     "name": "stdout",
     "output_type": "stream",
     "text": [
      "{\"name\":\"centos\",\"tags\":[\"7.6.1810\"]}\n",
      "\n",
      "{\"name\":\"flask-hello-world\",\"tags\":[\"1.0\"]}\n",
      "\n",
      "{\"name\":\"python\",\"tags\":[\"3.6\"]}\n",
      "\n",
      "{\"name\":\"ubuntu\",\"tags\":[\"latest\"]}\n",
      "\n"
     ]
    }
   ],
   "source": [
    "def get_docker_images(registry_ip_port):\n",
    "    cata_url = 'http://'+registry_ip_port+'/v2/_catalog'\n",
    "    cata_res = requests.get(cata_url).text\n",
    "#     print(cata_res)\n",
    "    cata_res = json.loads(cata_res)\n",
    "#     print(cata_res['repositories'])\n",
    "    for i in cata_res['repositories']:\n",
    "        tag_url = 'http://'+registry_ip_port+'/v2/'+ i + '/tags/list'\n",
    "        tag_res = requests.get(tag_url).text\n",
    "        print(tag_res)\n",
    "if __name__ == \"__main__\":\n",
    "    registry_ip_port = '192.168.33.10:5000'\n",
    "    get_docker_images(registry_ip_port)"
   ]
  },
  {
   "cell_type": "code",
   "execution_count": null,
   "metadata": {},
   "outputs": [],
   "source": []
  }
 ],
 "metadata": {
  "kernelspec": {
   "display_name": "Python 3",
   "language": "python",
   "name": "python3"
  },
  "language_info": {
   "codemirror_mode": {
    "name": "ipython",
    "version": 3
   },
   "file_extension": ".py",
   "mimetype": "text/x-python",
   "name": "python",
   "nbconvert_exporter": "python",
   "pygments_lexer": "ipython3",
   "version": "3.7.4"
  }
 },
 "nbformat": 4,
 "nbformat_minor": 2
}
